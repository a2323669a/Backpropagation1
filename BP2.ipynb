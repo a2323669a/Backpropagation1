{
  "cells": [
    {
      "cell_type": "code",
      "execution_count": 1,
      "outputs": [],
      "source": "import pandas as pd\nimport numpy as np\nfrom Layer import *\n\ndf \u003d pd.read_csv(\"./data/salary/train_sep.csv\")",
      "metadata": {
        "pycharm": {
          "metadata": false,
          "name": "#%% read csv\n",
          "is_executing": false
        }
      }
    },
    {
      "cell_type": "code",
      "execution_count": 87,
      "outputs": [],
      "source": "df_label \u003d df.loc[:, \u0027income\u0027]\ndf_train \u003d df.loc[:, :].drop(\u0027income\u0027, axis\u003d1)\n\ndata_x \u003d df_train.values.astype(np.float).T\ndata_y \u003d df_label.values.astype(np.float).reshape((1, -1))\n\ndata_x \u003d (data_x - np.mean(data_x, axis\u003d1).reshape((-1, 1))) / np.std(data_x, axis\u003d1).reshape((-1, 1))",
      "metadata": {
        "pycharm": {
          "metadata": false,
          "name": "#%% prepare data\n",
          "is_executing": false
        }
      }
    },
    {
      "cell_type": "code",
      "execution_count": 88,
      "outputs": [
        {
          "name": "stdout",
          "text": [
            "0    ,loss:22564.63035\n",
            "1    ,loss:319157.93217\n",
            "2    ,loss:20575.27148\n",
            "3    ,loss:17872.06013\n",
            "4    ,loss:97771.02952\n",
            "5    ,loss:17264.24459\n",
            "6    ,loss:16924.70642\n",
            "7    ,loss:16485.54079\n",
            "8    ,loss:13690.60890\n",
            "9    ,loss:13369.73164\n",
            "10   ,loss:13145.44782\n",
            "11   ,loss:12976.81091\n",
            "12   ,loss:12836.71616\n",
            "13   ,loss:12716.70368\n",
            "14   ,loss:12605.29677\n",
            "15   ,loss:12503.75175\n",
            "16   ,loss:12416.38999\n",
            "17   ,loss:12335.24054\n",
            "18   ,loss:12261.38454\n",
            "19   ,loss:12197.20970\n",
            "20   ,loss:12184.71487\n",
            "21   ,loss:12079.86114\n",
            "22   ,loss:12027.80424\n",
            "23   ,loss:11936.41627\n",
            "24   ,loss:11901.15854\n",
            "25   ,loss:11850.00565\n",
            "26   ,loss:11864.20022\n",
            "27   ,loss:11769.54648\n",
            "28   ,loss:11733.76691\n",
            "29   ,loss:11642.70386\n",
            "30   ,loss:11621.36810\n",
            "31   ,loss:11537.64466\n",
            "32   ,loss:11527.17778\n",
            "33   ,loss:11473.59655\n",
            "34   ,loss:11482.67469\n",
            "35   ,loss:11428.76310\n",
            "36   ,loss:11456.50841\n",
            "37   ,loss:11400.91349\n",
            "38   ,loss:11420.47304\n",
            "39   ,loss:11321.51091\n",
            "40   ,loss:11311.92201\n",
            "41   ,loss:11245.28108\n",
            "42   ,loss:11270.97230\n",
            "43   ,loss:11165.67143\n",
            "44   ,loss:11142.39890\n",
            "45   ,loss:11123.59937\n",
            "46   ,loss:11200.36272\n",
            "47   ,loss:11095.34311\n",
            "48   ,loss:11091.01951\n",
            "49   ,loss:11028.46430\n",
            "50   ,loss:11091.16336\n",
            "51   ,loss:11003.24641\n",
            "52   ,loss:11029.23367\n",
            "53   ,loss:10974.89032\n",
            "54   ,loss:11049.66954\n",
            "55   ,loss:10918.07555\n",
            "56   ,loss:10946.60466\n",
            "57   ,loss:10884.35777\n",
            "58   ,loss:10956.38260\n",
            "59   ,loss:10869.24406\n",
            "60   ,loss:10934.44357\n",
            "61   ,loss:10850.53230\n",
            "62   ,loss:10915.90115\n",
            "63   ,loss:10815.19914\n",
            "64   ,loss:10858.86350\n",
            "65   ,loss:10762.67389\n",
            "66   ,loss:10809.21638\n",
            "67   ,loss:10760.81037\n",
            "68   ,loss:10877.43448\n",
            "69   ,loss:10746.06318\n",
            "70   ,loss:10763.98719\n",
            "71   ,loss:10696.81477\n",
            "72   ,loss:10767.21069\n",
            "73   ,loss:10662.54487\n",
            "74   ,loss:10685.71060\n",
            "75   ,loss:10626.01432\n",
            "76   ,loss:10723.19319\n",
            "77   ,loss:10600.78431\n",
            "78   ,loss:10607.06100\n",
            "79   ,loss:10576.29086\n",
            "80   ,loss:10678.83571\n",
            "81   ,loss:10562.83956\n",
            "82   ,loss:10610.82504\n",
            "83   ,loss:10556.58865\n",
            "84   ,loss:10654.73551\n",
            "85   ,loss:10535.81686\n",
            "86   ,loss:10582.04971\n",
            "87   ,loss:10508.10388\n",
            "88   ,loss:10568.30889\n",
            "89   ,loss:10453.78129\n",
            "90   ,loss:10498.69765\n",
            "91   ,loss:10446.53984\n"
          ],
          "output_type": "stream"
        },
        {
          "traceback": [
            "\u001b[1;31m---------------------------------------------------------------------------\u001b[0m",
            "\u001b[1;31mKeyboardInterrupt\u001b[0m                         Traceback (most recent call last)",
            "\u001b[1;32m\u003cipython-input-88-57fd52f641f6\u003e\u001b[0m in \u001b[0;36m\u003cmodule\u003e\u001b[1;34m\u001b[0m\n\u001b[0;32m     56\u001b[0m         \u001b[1;31m# backpropagation\u001b[0m\u001b[1;33m\u001b[0m\u001b[1;33m\u001b[0m\u001b[1;33m\u001b[0m\u001b[0m\n\u001b[0;32m     57\u001b[0m         \u001b[1;32mfor\u001b[0m \u001b[0mlayer\u001b[0m \u001b[1;32min\u001b[0m \u001b[0mreversed\u001b[0m\u001b[1;33m(\u001b[0m\u001b[0mlayers\u001b[0m\u001b[1;33m)\u001b[0m\u001b[1;33m:\u001b[0m\u001b[1;33m\u001b[0m\u001b[1;33m\u001b[0m\u001b[0m\n\u001b[1;32m---\u003e 58\u001b[1;33m             \u001b[0md_c_a\u001b[0m \u001b[1;33m\u003d\u001b[0m \u001b[0mlayer\u001b[0m\u001b[1;33m.\u001b[0m\u001b[0mbackpropagation\u001b[0m\u001b[1;33m(\u001b[0m\u001b[0md_c_a\u001b[0m\u001b[1;33m,\u001b[0m\u001b[0mlr\u001b[0m\u001b[1;33m)\u001b[0m\u001b[1;33m\u001b[0m\u001b[1;33m\u001b[0m\u001b[0m\n\u001b[0m\u001b[0;32m     59\u001b[0m \u001b[1;33m\u001b[0m\u001b[0m\n\u001b[0;32m     60\u001b[0m         \u001b[0mloss_val\u001b[0m \u001b[1;33m+\u003d\u001b[0m \u001b[0mloss\u001b[0m\u001b[1;33m(\u001b[0m\u001b[0ma\u001b[0m\u001b[1;33m,\u001b[0m \u001b[0my\u001b[0m\u001b[1;33m)\u001b[0m\u001b[1;33m[\u001b[0m\u001b[1;36m0\u001b[0m\u001b[1;33m]\u001b[0m\u001b[1;33m[\u001b[0m\u001b[1;36m0\u001b[0m\u001b[1;33m]\u001b[0m\u001b[1;33m\u001b[0m\u001b[1;33m\u001b[0m\u001b[0m\n",
            "\u001b[1;32m~\\PycharmProjects\\Backpropagation1\\Layer.py\u001b[0m in \u001b[0;36mbackpropagation\u001b[1;34m(self, d_c_a, lr)\u001b[0m\n\u001b[0;32m     30\u001b[0m \u001b[1;33m\u001b[0m\u001b[0m\n\u001b[0;32m     31\u001b[0m         \u001b[1;31m#(dim,neurons) @ [(neurons,n) * (neurons,n)] -\u003e (dim,n)\u001b[0m\u001b[1;33m\u001b[0m\u001b[1;33m\u001b[0m\u001b[1;33m\u001b[0m\u001b[0m\n\u001b[1;32m---\u003e 32\u001b[1;33m         \u001b[0md_c_a0\u001b[0m \u001b[1;33m\u003d\u001b[0m \u001b[0mnp\u001b[0m\u001b[1;33m.\u001b[0m\u001b[0mmatmul\u001b[0m\u001b[1;33m(\u001b[0m\u001b[0mself\u001b[0m\u001b[1;33m.\u001b[0m\u001b[0mws\u001b[0m\u001b[1;33m,\u001b[0m \u001b[0mnp\u001b[0m\u001b[1;33m.\u001b[0m\u001b[0mmultiply\u001b[0m\u001b[1;33m(\u001b[0m\u001b[0mself\u001b[0m\u001b[1;33m.\u001b[0m\u001b[0mf_rev\u001b[0m\u001b[1;33m(\u001b[0m\u001b[0mself\u001b[0m\u001b[1;33m.\u001b[0m\u001b[0mz\u001b[0m\u001b[1;33m)\u001b[0m\u001b[1;33m,\u001b[0m \u001b[0md_c_a\u001b[0m\u001b[1;33m)\u001b[0m\u001b[1;33m)\u001b[0m\u001b[1;33m\u001b[0m\u001b[1;33m\u001b[0m\u001b[0m\n\u001b[0m\u001b[0;32m     33\u001b[0m \u001b[1;33m\u001b[0m\u001b[0m\n\u001b[0;32m     34\u001b[0m         \u001b[1;31m#update parameter\u001b[0m\u001b[1;33m\u001b[0m\u001b[1;33m\u001b[0m\u001b[1;33m\u001b[0m\u001b[0m\n",
            "\u001b[1;32m~\\PycharmProjects\\Backpropagation1\\Layer.py\u001b[0m in \u001b[0;36msigmoid_rev\u001b[1;34m(x)\u001b[0m\n\u001b[0;32m     49\u001b[0m \u001b[1;33m\u001b[0m\u001b[0m\n\u001b[0;32m     50\u001b[0m \u001b[1;32mdef\u001b[0m \u001b[0msigmoid_rev\u001b[0m\u001b[1;33m(\u001b[0m\u001b[0mx\u001b[0m\u001b[1;33m)\u001b[0m\u001b[1;33m:\u001b[0m\u001b[1;33m\u001b[0m\u001b[1;33m\u001b[0m\u001b[0m\n\u001b[1;32m---\u003e 51\u001b[1;33m     \u001b[1;32mreturn\u001b[0m \u001b[0msigmoid\u001b[0m\u001b[1;33m(\u001b[0m\u001b[0mx\u001b[0m\u001b[1;33m)\u001b[0m \u001b[1;33m*\u001b[0m \u001b[1;33m(\u001b[0m\u001b[1;36m1.\u001b[0m \u001b[1;33m-\u001b[0m \u001b[0msigmoid\u001b[0m\u001b[1;33m(\u001b[0m\u001b[0mx\u001b[0m\u001b[1;33m)\u001b[0m\u001b[1;33m)\u001b[0m\u001b[1;33m\u001b[0m\u001b[1;33m\u001b[0m\u001b[0m\n\u001b[0m\u001b[0;32m     52\u001b[0m \u001b[1;33m\u001b[0m\u001b[0m\n\u001b[0;32m     53\u001b[0m \u001b[1;33m\u001b[0m\u001b[0m\n",
            "\u001b[1;32m~\\PycharmProjects\\Backpropagation1\\Layer.py\u001b[0m in \u001b[0;36msigmoid\u001b[1;34m(x)\u001b[0m\n\u001b[0;32m     45\u001b[0m \u001b[1;33m\u001b[0m\u001b[0m\n\u001b[0;32m     46\u001b[0m \u001b[1;32mdef\u001b[0m \u001b[0msigmoid\u001b[0m\u001b[1;33m(\u001b[0m\u001b[0mx\u001b[0m\u001b[1;33m)\u001b[0m\u001b[1;33m:\u001b[0m\u001b[1;33m\u001b[0m\u001b[1;33m\u001b[0m\u001b[0m\n\u001b[1;32m---\u003e 47\u001b[1;33m     \u001b[1;32mreturn\u001b[0m \u001b[1;36m1.\u001b[0m \u001b[1;33m/\u001b[0m \u001b[1;33m(\u001b[0m\u001b[1;36m1.\u001b[0m \u001b[1;33m+\u001b[0m \u001b[0mnp\u001b[0m\u001b[1;33m.\u001b[0m\u001b[0mexp\u001b[0m\u001b[1;33m(\u001b[0m\u001b[1;33m-\u001b[0m\u001b[0mx\u001b[0m\u001b[1;33m)\u001b[0m\u001b[1;33m)\u001b[0m\u001b[1;33m\u001b[0m\u001b[1;33m\u001b[0m\u001b[0m\n\u001b[0m\u001b[0;32m     48\u001b[0m \u001b[1;33m\u001b[0m\u001b[0m\n\u001b[0;32m     49\u001b[0m \u001b[1;33m\u001b[0m\u001b[0m\n",
            "\u001b[1;31mKeyboardInterrupt\u001b[0m: "
          ],
          "ename": "KeyboardInterrupt",
          "evalue": "",
          "output_type": "error"
        }
      ],
      "source": "def loss(pred, y):\n    pred_log \u003d np.log(pred + 1e-20)  # q(1) \u003d f(x)\n    no_pred_log \u003d np.log(1.0 - pred + 1e-20)  # q(0) \u003d 1 - f(x) ; f(x) : probability of class A(1)\n    loss_val \u003d -1. * (np.matmul(y, pred_log.T) + np.matmul((1.0 - y), no_pred_log.T))\n    return loss_val\n\ndef accuarcy(pred,y):\n    pred \u003d np.rint(pred)\n    return np.mean(np.equal(pred,y).astype(\u0027float\u0027))\n\ndef grad_cross_entropy(pred,y):\n    d_c_pred \u003d -1.0 * (y / (pred + 1e-20) - (1. - y) / (1. - pred + 1e-20))  # (1,n) it is grad not loss\n    return d_c_pred\n\ndef shuffle():\n    seed \u003d np.random.randint(0,1e5)\n    \n    #I make a big error : shuffle\n    #np shuffle is shuffled by the first dim.in this example,is row\n    #but we make the data_x [dim,n].so, we need transpose the data_x first and shuffle next\n    np.random.seed(seed)\n    np.random.shuffle(data_x.T)\n    np.random.seed(seed)\n    np.random.shuffle(data_y.T)\n\n\ndim,n \u003d data_x.shape\ndim1 \u003d 64\ndim2 \u003d 16\ndim3 \u003d 4\ndim4 \u003d 2\ndim5 \u003d 1\n\nlayers \u003d [Layer(dim,dim1,relu,relu_rev),\n          Layer(dim1,dim2,relu,relu_rev),\n          #Layer(dim2,dim3,relu,relu_rev),\n          #Layer(dim3,dim4,relu,relu_rev),\n          Layer(dim2,dim5,sigmoid,sigmoid_rev)]\nlr \u003d 0.3\nepochs \u003d 2000\nbatch_size \u003d n\nbatch_count \u003d n // batch_size\nloss_list \u003d []\nfor epoch in range(epochs):\n    loss_val \u003d 0\n    shuffle()\n    \n    for i in range(batch_count):\n        a \u003d data_x[:,i*batch_size:(i+1)*batch_size]\n        y \u003d data_y[:,i*batch_size:(i+1)*batch_size]\n    \n        # forward\n        for layer in layers:\n            a \u003d layer.forward(a)\n    \n        # cross entropy\n        d_c_a \u003d grad_cross_entropy(a,y)  # (1,n) it is grad not loss\n    \n        # backpropagation\n        for layer in reversed(layers):\n            d_c_a \u003d layer.backpropagation(d_c_a,lr)\n        \n        loss_val +\u003d loss(a, y)[0][0]\n    \n    loss_list.append(loss_val)\n    if epoch %1 \u003d\u003d 0:\n            print(\"{:\u003c5d},loss:{:.5f}\".format(epoch,loss_val))",
      "metadata": {
        "pycharm": {
          "metadata": false,
          "name": "#%%\n",
          "is_executing": false
        }
      }
    },
    {
      "cell_type": "code",
      "execution_count": 74,
      "outputs": [
        {
          "data": {
            "text/plain": "\u003cFigure size 432x288 with 1 Axes\u003e",
            "image/png": "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\u003d\u003d\n"
          },
          "metadata": {
            "needs_background": "light"
          },
          "output_type": "display_data"
        }
      ],
      "source": "import matplotlib.pyplot as plt\nplt.plot(loss_list)\nplt.show()",
      "metadata": {
        "pycharm": {
          "metadata": false,
          "name": "#%%\n",
          "is_executing": false
        }
      }
    },
    {
      "cell_type": "code",
      "execution_count": 97,
      "outputs": [
        {
          "data": {
            "text/plain": "array([[ 1,  4,  3,  0,  2,  5],\n       [ 7, 10,  9,  6,  8, 11],\n       [13, 16, 15, 12, 14, 17],\n       [19, 22, 21, 18, 20, 23]])"
          },
          "metadata": {},
          "output_type": "execute_result",
          "execution_count": 97
        }
      ],
      "source": "k \u003d np.array(range(24)).reshape(4,6)\nseed \u003d 19\nnp.random.seed(seed)\nnp.random.shuffle(k.T)\nk\n",
      "metadata": {
        "pycharm": {
          "metadata": false,
          "name": "#%%\n",
          "is_executing": false
        }
      }
    }
  ],
  "metadata": {
    "language_info": {
      "codemirror_mode": {
        "name": "ipython",
        "version": 2
      },
      "file_extension": ".py",
      "mimetype": "text/x-python",
      "name": "python",
      "nbconvert_exporter": "python",
      "pygments_lexer": "ipython2",
      "version": "2.7.6"
    },
    "kernelspec": {
      "name": "python3",
      "language": "python",
      "display_name": "Python 3"
    },
    "stem_cell": {
      "cell_type": "raw",
      "source": "",
      "metadata": {
        "pycharm": {
          "metadata": false
        }
      }
    }
  },
  "nbformat": 4,
  "nbformat_minor": 0
}